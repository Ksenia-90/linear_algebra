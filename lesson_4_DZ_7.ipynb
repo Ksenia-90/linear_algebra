{
  "nbformat": 4,
  "nbformat_minor": 0,
  "metadata": {
    "colab": {
      "name": "lesson_4_DZ_7.ipynb",
      "provenance": [],
      "collapsed_sections": [],
      "authorship_tag": "ABX9TyONh613iLspt/bbhSlnl6um",
      "include_colab_link": true
    },
    "kernelspec": {
      "name": "python3",
      "display_name": "Python 3"
    },
    "language_info": {
      "name": "python"
    }
  },
  "cells": [
    {
      "cell_type": "markdown",
      "metadata": {
        "id": "view-in-github",
        "colab_type": "text"
      },
      "source": [
        "<a href=\"https://colab.research.google.com/github/Ksenia-90/linear_algebra/blob/lesson_4/lesson_4_DZ_7.ipynb\" target=\"_parent\"><img src=\"https://colab.research.google.com/assets/colab-badge.svg\" alt=\"Open In Colab\"/></a>"
      ]
    },
    {
      "cell_type": "code",
      "metadata": {
        "id": "teaU6opsMqMN"
      },
      "source": [
        ""
      ],
      "execution_count": 1,
      "outputs": []
    },
    {
      "cell_type": "markdown",
      "metadata": {
        "id": "ZBi7FV66fPKf"
      },
      "source": [
        "__1.__ Решить систему уравнений методом Крамера:\n",
        "\n",
        "   а) $\\begin{cases}\n",
        "x_{1}-2x_{2}=1 \\\\\n",
        "3x_{1}-4x_{2}=7\n",
        "\\end{cases}$\n",
        "    \n",
        "   б) $\\begin{cases}\n",
        "2x_{1}-x_{2}+5x_{3}=10 \\\\\n",
        "x_{1}+x_{2}-3x_{3}=-2 \\\\\n",
        "2x_{1}+4x_{2}+x_{3}=1\n",
        "\\end{cases}$"
      ]
    },
    {
      "cell_type": "code",
      "metadata": {
        "colab": {
          "base_uri": "https://localhost:8080/"
        },
        "id": "DCMKSiKpbQR-",
        "outputId": "7153f7a4-a6bc-44be-fc6a-8cc641e6835f"
      },
      "source": [
        "import numpy as np\n",
        "\n",
        "A = np.array([[1, -2], [3, -4]])\n",
        "b = np.array([1, 7]).reshape(-1, 1)\n",
        "\n",
        "x1 = np.linalg.det(np.hstack((b, A[:,1].reshape(-1, 1)))) /  np.linalg.det(A)\n",
        "x1"
      ],
      "execution_count": 3,
      "outputs": [
        {
          "output_type": "execute_result",
          "data": {
            "text/plain": [
              "4.999999999999998"
            ]
          },
          "metadata": {},
          "execution_count": 3
        }
      ]
    },
    {
      "cell_type": "code",
      "metadata": {
        "colab": {
          "base_uri": "https://localhost:8080/"
        },
        "id": "ReikkQtcbX9l",
        "outputId": "1baf8096-82f5-434a-d2ea-e52e7e8af0be"
      },
      "source": [
        "x2 = np.linalg.det(np.hstack((A[:,0].reshape(-1, 1), b))) /  np.linalg.det(A)\n",
        "x2"
      ],
      "execution_count": 3,
      "outputs": [
        {
          "output_type": "execute_result",
          "data": {
            "text/plain": [
              "1.9999999999999991"
            ]
          },
          "metadata": {},
          "execution_count": 3
        }
      ]
    },
    {
      "cell_type": "code",
      "metadata": {
        "colab": {
          "base_uri": "https://localhost:8080/"
        },
        "id": "VP66KrHvbY4c",
        "outputId": "d46b6cc5-2e5e-4286-8628-93d7116b98b8"
      },
      "source": [
        "np.linalg.solve(A, b)"
      ],
      "execution_count": 4,
      "outputs": [
        {
          "output_type": "execute_result",
          "data": {
            "text/plain": [
              "array([[5.],\n",
              "       [2.]])"
            ]
          },
          "metadata": {},
          "execution_count": 4
        }
      ]
    },
    {
      "cell_type": "code",
      "metadata": {
        "id": "zwlngLBYbdM3"
      },
      "source": [
        "B= np.array([[2, -1, 5], [1, 2, -3], [2, 4, 1]])\n",
        "b = np.array([10, -2, 1]).reshape(-1, 1)"
      ],
      "execution_count": 5,
      "outputs": []
    },
    {
      "cell_type": "code",
      "metadata": {
        "colab": {
          "base_uri": "https://localhost:8080/"
        },
        "id": "cfGfHOf0bkNJ",
        "outputId": "276592fc-4171-4b4d-dd31-8d646e3dd910"
      },
      "source": [
        "x_1 = np.linalg.det(np.hstack((b, B[:,1:]))) /  np.linalg.det(B)\n",
        "x_1"
      ],
      "execution_count": 9,
      "outputs": [
        {
          "output_type": "execute_result",
          "data": {
            "text/plain": [
              "2.6000000000000023"
            ]
          },
          "metadata": {},
          "execution_count": 9
        }
      ]
    },
    {
      "cell_type": "code",
      "metadata": {
        "colab": {
          "base_uri": "https://localhost:8080/"
        },
        "id": "nO2nqMHhbmt1",
        "outputId": "11b9ab38-8efc-47f5-b58a-4bb16e8b8921"
      },
      "source": [
        "x_2 = np.linalg.det(np.hstack((B[:,:1], b, B[:,-1:]))) /  np.linalg.det(B)\n",
        "x_2"
      ],
      "execution_count": 10,
      "outputs": [
        {
          "output_type": "execute_result",
          "data": {
            "text/plain": [
              "-1.2285714285714293"
            ]
          },
          "metadata": {},
          "execution_count": 10
        }
      ]
    },
    {
      "cell_type": "code",
      "metadata": {
        "colab": {
          "base_uri": "https://localhost:8080/"
        },
        "id": "km_3g0eBbrun",
        "outputId": "d8b603b9-64ad-491f-88b1-5c7c4ab1e5e7"
      },
      "source": [
        "x_3 = np.linalg.det(np.hstack((B[:,:2], b))) /  np.linalg.det(B)\n",
        "x_3"
      ],
      "execution_count": 12,
      "outputs": [
        {
          "output_type": "execute_result",
          "data": {
            "text/plain": [
              "0.7142857142857143"
            ]
          },
          "metadata": {},
          "execution_count": 12
        }
      ]
    },
    {
      "cell_type": "code",
      "metadata": {
        "colab": {
          "base_uri": "https://localhost:8080/"
        },
        "id": "VPGQGuvQcNA4",
        "outputId": "7d11e85c-bbbf-4154-fadc-70154b808aab"
      },
      "source": [
        "np.linalg.solve(B, b)"
      ],
      "execution_count": 13,
      "outputs": [
        {
          "output_type": "execute_result",
          "data": {
            "text/plain": [
              "array([[ 2.6       ],\n",
              "       [-1.22857143],\n",
              "       [ 0.71428571]])"
            ]
          },
          "metadata": {},
          "execution_count": 13
        }
      ]
    },
    {
      "cell_type": "markdown",
      "metadata": {
        "id": "z0F-fc2WNlic"
      },
      "source": [
        "\n",
        "__2*.__ Найти $L$-матрицу $LU$-разложения для матрицы коэффициентов:\n",
        "\n",
        "   а)$$\\begin{pmatrix}\n",
        "1 & 2 & 4 \\\\ \n",
        "2 & 9 & 12 \\\\ \n",
        "3 & 26 & 30\n",
        "\\end{pmatrix}$$\n",
        "    \n",
        "   б)$$\\begin{pmatrix}\n",
        "1 & 1 & 2 & 4\\\\ \n",
        "2 & 5 & 8 & 9\\\\ \n",
        "3 & 18 & 29 & 18\\\\\n",
        "4 & 22 & 53 & 33\n",
        "\\end{pmatrix}$$"
      ]
    },
    {
      "cell_type": "code",
      "metadata": {
        "colab": {
          "base_uri": "https://localhost:8080/"
        },
        "id": "dIiTC-wPTqO5",
        "outputId": "6c1bf8d9-2858-4aaa-a914-60af138e0bad"
      },
      "source": [
        "from scipy.linalg import lu\n",
        "import pprint\n",
        "A = np.array([[1,2,4], [2,9,12], [3,26,30]])\n",
        "p, l, u = lu(A)\n",
        "print(\"L:\")\n",
        "pprint.pprint(l)\n"
      ],
      "execution_count": 6,
      "outputs": [
        {
          "output_type": "stream",
          "name": "stdout",
          "text": [
            "L:\n",
            "array([[1.        , 0.        , 0.        ],\n",
            "       [0.66666667, 1.        , 0.        ],\n",
            "       [0.33333333, 0.8       , 1.        ]])\n"
          ]
        }
      ]
    },
    {
      "cell_type": "markdown",
      "metadata": {
        "id": "NgjgEGLTVJO9"
      },
      "source": [
        "А на листочке ответ вот такой:\n",
        "$$\\begin{pmatrix}\n",
        "1 & 0 & 0\\\\ \n",
        "2 & 1 & 0 \\\\ \n",
        "3 & 4 & 1\n",
        "\\end{pmatrix}$$\n"
      ]
    },
    {
      "cell_type": "code",
      "metadata": {
        "colab": {
          "base_uri": "https://localhost:8080/"
        },
        "id": "BMWDgiOvUVZ9",
        "outputId": "31a5f84f-2f4a-417a-8e76-c584fb764616"
      },
      "source": [
        "from scipy.linalg import lu\n",
        "import pprint\n",
        "A = np.array([[1,1,2,4], [2,5,8,9], [3,18,29,18], [4,22,53,33]])\n",
        "p, l, u = lu(A)\n",
        "print(\"L:\")\n",
        "pprint.pprint(l)"
      ],
      "execution_count": 7,
      "outputs": [
        {
          "output_type": "stream",
          "name": "stdout",
          "text": [
            "L:\n",
            "array([[ 1.        ,  0.        ,  0.        ,  0.        ],\n",
            "       [ 0.5       ,  1.        ,  0.        ,  0.        ],\n",
            "       [ 0.75      , -0.25      ,  1.        ,  0.        ],\n",
            "       [ 0.25      ,  0.75      , -0.17073171,  1.        ]])\n"
          ]
        }
      ]
    },
    {
      "cell_type": "markdown",
      "metadata": {
        "id": "bqIu7f6OWPpY"
      },
      "source": [
        "А на листочке ответ вот такой:\n",
        "$$\\begin{pmatrix}\n",
        "1 & 0 & 0 & 0\\\\ \n",
        "2 & 1 & 0 & 0\\\\ \n",
        "3 & 5 & 1 & 0\\\\\n",
        "4 & 6 & 7 & 1\n",
        "\\end{pmatrix}$$\n"
      ]
    },
    {
      "cell_type": "markdown",
      "metadata": {
        "id": "XTauW1uUNqOl"
      },
      "source": [
        "__3*.__ Решить систему линейных уравнений методом $LU$-разложения\n",
        "\n",
        "$$\\begin{cases}\n",
        "2x_{1}+x_{2}+3x_{3}=1 \\\\\n",
        "11x_{1}+7x_{2}+5x_{3}=-6 \\\\\n",
        "9x_{1}+8x_{2}+4x_{3}=-5\n",
        "\\end{cases}$$"
      ]
    },
    {
      "cell_type": "markdown",
      "metadata": {
        "id": "d9xl2g9qNzh-"
      },
      "source": [
        "$$\\begin{pmatrix}\n",
        "1 & 0 & 0 \\\\ \n",
        "0 & 1 & 0 \\\\ \n",
        "0 & 0 & 1\n",
        "\\end{pmatrix}$$ \n",
        "$$\\begin{pmatrix}\n",
        "2 & 1 & 3 \\\\ \n",
        "11 & 7 & 5 \\\\ \n",
        "9 & 8 & 4\n",
        "\\end{pmatrix}$$\n",
        "\n",
        "$$U_{21} = 11-(11*2)/2 = 0$$\n",
        "$$U_{22} = 7-11*1/2 = 3/2$$\n",
        "$$U_{23} = 5-11*3/2 = -23/2$$\n",
        "$$L_{21} = 11/2$$\n",
        "$$U_{31} = 9-9*2/2 = 0$$\n",
        "$$U_{32} = 8-9*1/2 = 7/2$$\n",
        "$$U_{33} = 4-9*3/2 = -19/2$$\n",
        "$$L_{31} = 9/2$$\n",
        "$$U_{32} = (7/2)*(7/2)*(3/2)/(3/2)=0$$\n",
        "$$U_{33} = 52/3$$\n",
        "$$L_{32} = (7/3)$$\n",
        "\n"
      ]
    },
    {
      "cell_type": "markdown",
      "metadata": {
        "id": "Hyph6K9uRiGy"
      },
      "source": [
        "Ответ:\n",
        "$$\\begin{pmatrix}\n",
        "1 & 0 & 0 \\\\ \n",
        "11/2 & 1 & 0 \\\\ \n",
        "9/2 & 7/3 & 1\n",
        "\\end{pmatrix}$$ \n",
        "$$\\begin{pmatrix}\n",
        "2 & 1 & 3 \\\\ \n",
        "0 & 3/2 & -23/2 \\\\ \n",
        "0 & 0 & 52/3\n",
        "\\end{pmatrix}$$"
      ]
    },
    {
      "cell_type": "markdown",
      "metadata": {
        "id": "uvrmm2FxNwxG"
      },
      "source": [
        "\n",
        "__4*.__ Решить систему линейных уравнений методом Холецкого\n",
        "\n",
        "$$\\begin{cases}\n",
        "81x_{1}-45x_{2}+45x_{3}=531 \\\\\n",
        "-45x_{1}+50x_{2}-15x_{3}=-460 \\\\\n",
        "45x_{1}-15x_{2}+38x_{3}=193\n",
        "\\end{cases}$$"
      ]
    },
    {
      "cell_type": "markdown",
      "metadata": {
        "id": "mXzZQAzCkGZt"
      },
      "source": [
        "$$l_{11} = \\sqrt{a_{11}} = \\sqrt{81} = 9$$\n",
        "$$l_{21} = a_{21} / l_{11} = -45/9 = -5$$\n",
        "$$l_{22} = \\sqrt{{a_{22}}-l^2_{21}}= \\sqrt{{50-(-5^2)}} = 5$$\n",
        "$$l_{31} = a_{31} / l_{11} = 45/9 = 5$$\n",
        "$$l_{32} = (a_{32} -(l_{31}*l_{21})) / l_{22} = (-15-(5*(-5)))/5 = 2$$\n",
        "$$l_{33} = \\sqrt{{a_{33}}-l^2_{31}+l^2_{32}}= \\sqrt{{38-5^2-2^2}} = 3$$\n",
        "\n"
      ]
    },
    {
      "cell_type": "markdown",
      "metadata": {
        "id": "0lOJ8JEyyf-e"
      },
      "source": [
        "Ответ: \n",
        "$$\\begin{pmatrix}\n",
        "9 & 0 & 0 \\\\ \n",
        "-5 & 5 & 0 \\\\ \n",
        "5 & 2 & 3\n",
        "\\end{pmatrix}$$"
      ]
    },
    {
      "cell_type": "markdown",
      "metadata": {
        "id": "_u4qQujBN3hy"
      },
      "source": [
        "__5*.__ Написать на Python программу с реализацией одного из изученных алгоритмов решения СЛАУ."
      ]
    },
    {
      "cell_type": "code",
      "metadata": {
        "colab": {
          "base_uri": "https://localhost:8080/"
        },
        "id": "cwMeKcydh3xI",
        "outputId": "5f1a589b-43c7-4f87-ca69-0cf80b1fb805"
      },
      "source": [
        "def cholesky(A):\n",
        "    pivot = A[0, 0]\n",
        "    b = np.mat(A[1:, 0])\n",
        "    B = A[1:, 1:]\n",
        "    return B - (b.T * b) / pivot\n",
        "\n",
        "\n",
        "def L(A):\n",
        "    n = A.shape[0]\n",
        "    if n == 1:\n",
        "        return np.sqrt(A)\n",
        "    b = np.mat(A[1:, 0])\n",
        "    pivot = np.sqrt(A[0, 0])\n",
        "    return np.bmat([\n",
        "        [np.mat(pivot), np.zeros((1, n - 1))],\n",
        "        [b.T / pivot, L(cholesky(A))]\n",
        "    ])\n",
        "\n",
        "\n",
        "def __main():\n",
        "    A = np.array([[81, 45, -45], [-45, 50, -15], [45, -15, 38]])\n",
        "    print(L(A))\n",
        "\n",
        "\n",
        "if __name__ == '__main__':\n",
        "    __main()"
      ],
      "execution_count": null,
      "outputs": [
        {
          "output_type": "stream",
          "name": "stdout",
          "text": [
            "[[ 9.  0.  0.]\n",
            " [-5.  5.  0.]\n",
            " [ 5.  2.  3.]]\n"
          ]
        }
      ]
    }
  ]
}