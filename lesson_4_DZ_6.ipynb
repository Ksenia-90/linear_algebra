{
  "nbformat": 4,
  "nbformat_minor": 0,
  "metadata": {
    "colab": {
      "name": "lesson_4_DZ_6.ipynb",
      "provenance": [],
      "collapsed_sections": [],
      "authorship_tag": "ABX9TyP4JkVT3WN3YxXnQwKetwS+",
      "include_colab_link": true
    },
    "kernelspec": {
      "name": "python3",
      "display_name": "Python 3"
    },
    "language_info": {
      "name": "python"
    }
  },
  "cells": [
    {
      "cell_type": "markdown",
      "metadata": {
        "id": "view-in-github",
        "colab_type": "text"
      },
      "source": [
        "<a href=\"https://colab.research.google.com/github/Ksenia-90/linear_algebra/blob/lesson_4/lesson_4_DZ_6.ipynb\" target=\"_parent\"><img src=\"https://colab.research.google.com/assets/colab-badge.svg\" alt=\"Open In Colab\"/></a>"
      ]
    },
    {
      "cell_type": "markdown",
      "metadata": {
        "id": "cTVfl123ZS5O"
      },
      "source": [
        "__1.__ Решить систему уравнений методом Гаусса:\n",
        "\n",
        "$$\\begin{cases}\n",
        "x_{1}+x_{2}-x_{3}-2x_{4}=0, \\\\\n",
        "2x_{1}+x_{2}-x_{3}+x_{4}=-2, \\\\\n",
        "x_{1}+x_{2}-3x_{3}+x_{4}=4.\n",
        "\\end{cases}$$"
      ]
    },
    {
      "cell_type": "markdown",
      "metadata": {
        "id": "7DKJ7-bMc3wa"
      },
      "source": [
        "$$\\begin{pmatrix}\n",
        "\\left.\\begin{matrix}\n",
        "1 & 1 & -1 & -2 \\\\ \n",
        "2 & 1 & -1 & 1\\\\ \n",
        "1 & 1 & -3 & 1\n",
        "\\end{matrix}\\right|\n",
        "\\begin{matrix}\n",
        "0\\\\ \n",
        "-2\\\\\n",
        "4\n",
        "\\end{matrix}\n",
        "\\end{pmatrix} = $$ \n",
        "\n",
        "$$\\begin{pmatrix}\n",
        "\\left.\\begin{matrix}\n",
        "2 & 1 & -1 & 1 \\\\ \n",
        "0 & 0.5 & -0.5 & -2.5\\\\ \n",
        "0 & 0 & -2 & 3\n",
        "\\end{matrix}\\right|\n",
        "\\begin{matrix}\n",
        "-2\\\\ \n",
        "1\\\\\n",
        "4\n",
        "\\end{matrix}\n",
        "\\end{pmatrix} = $$ \n",
        "\n",
        "$$\\begin{pmatrix}\n",
        "\\left.\\begin{matrix}\n",
        "1 & 0.5 & -0.5 & 0.5 \\\\ \n",
        "0 & 1 & -1 & -5\\\\ \n",
        "0 & 0 & 1 & -1.5\n",
        "\\end{matrix}\\right|\n",
        "\\begin{matrix}\n",
        "-1\\\\ \n",
        "2\\\\\n",
        "-2\n",
        "\\end{matrix}\n",
        "\\end{pmatrix} = $$ \n",
        "\n",
        "$$\\begin{cases}\n",
        "x_{1} = -1 - (0.5x_{2}-0.5x_{3}-0.5x_{4}), \\\\\n",
        "x_{2} = 2 -(x_{3}-5x_{4}), \\\\\n",
        "x_{3} = -2-(-1.5x_{4})\n",
        "\\end{cases}$$\n",
        "\n",
        "$$\\begin{cases}\n",
        "x_{1} = -2 \\\\\n",
        "x_{2} = 0 \\\\\n",
        "x_{3} = -2 \\\\\n",
        "x_{4} = 0\n",
        "\\end{cases}$$"
      ]
    },
    {
      "cell_type": "markdown",
      "metadata": {
        "id": "qke4ebpsNHWK"
      },
      "source": [
        "\n",
        "__2.__ Проверить на совместность и выяснить, сколько решений будет иметь система линейных уравнений:\n",
        "\n",
        "   а) $\\begin{cases}\n",
        "3x_{1}-x_{2}+x_{3}=4, \\\\\n",
        "2x_{1}-5x_{2}-3x_{3}=-17, \\\\\n",
        "x_{1}+x_{2}-x_{3}=0;\n",
        "\\end{cases}$\n",
        "    \n",
        "   б) $\\begin{cases}\n",
        "2x_{1}-4x_{2}+6x_{3}=1, \\\\\n",
        "x_{1}-2x_{2}+3x_{3}=-2, \\\\\n",
        "3x_{1}-6x_{2}+9x_{3}=5;\n",
        "\\end{cases}$\n",
        "    \n",
        "   в) $\\begin{cases}\n",
        "x_{1}+2x_{2}+5x_{3}=4, \\\\\n",
        "3x_{1}+x_{2}-8x_{3}=-2. \n",
        "\\end{cases}$\n"
      ]
    },
    {
      "cell_type": "code",
      "metadata": {
        "id": "sku0zN8Eg9en"
      },
      "source": [
        "import numpy as np"
      ],
      "execution_count": null,
      "outputs": []
    },
    {
      "cell_type": "code",
      "metadata": {
        "id": "uwcWxiXKiALt"
      },
      "source": [
        "def sovmestimosti (A, b, n):\n",
        "    rnk_A = np.linalg.matrix_rank(A)\n",
        "    rnk_Ab = np.linalg.matrix_rank(np.hstack((A, b)))\n",
        "    if  rnk_A == rnk_Ab == n:\n",
        "        return 'Cистема имеет единственное решение'\n",
        "    elif (rnk_A == rnk_Ab) and (rnk_A < n):\n",
        "        return 'Cистема имеет бесконечное количество решений'\n",
        "    elif rnk_A < rnk_Ab:\n",
        "        return 'Cистема несовместна'"
      ],
      "execution_count": null,
      "outputs": []
    },
    {
      "cell_type": "code",
      "metadata": {
        "colab": {
          "base_uri": "https://localhost:8080/",
          "height": 35
        },
        "id": "ieRithrRjsWi",
        "outputId": "66cca09e-f612-4a05-b826-99aa3357fa30"
      },
      "source": [
        "A = np.array([[3, -1, 1], [2, -5, -3], [1, 1, -1]])\n",
        "b = np.array([4, 17, 0]).reshape(-1, 1)\n",
        "sovmestimosti (A, b, 3)"
      ],
      "execution_count": null,
      "outputs": [
        {
          "output_type": "execute_result",
          "data": {
            "application/vnd.google.colaboratory.intrinsic+json": {
              "type": "string"
            },
            "text/plain": [
              "'Cистема имеет единственное решение'"
            ]
          },
          "metadata": {},
          "execution_count": 8
        }
      ]
    },
    {
      "cell_type": "code",
      "metadata": {
        "colab": {
          "base_uri": "https://localhost:8080/",
          "height": 35
        },
        "id": "vZoyZFAej-59",
        "outputId": "7d244834-4d66-4a23-c33c-e59e9505d3e8"
      },
      "source": [
        "A = np.array([[2, -4, 6], [1, -2, 3], [3, -6, 9]])\n",
        "b = np.array([1, -2, 5]).reshape(-1, 1)\n",
        "sovmestimosti(A, b, 3)"
      ],
      "execution_count": null,
      "outputs": [
        {
          "output_type": "execute_result",
          "data": {
            "application/vnd.google.colaboratory.intrinsic+json": {
              "type": "string"
            },
            "text/plain": [
              "'Cистема несовместна'"
            ]
          },
          "metadata": {},
          "execution_count": 9
        }
      ]
    },
    {
      "cell_type": "code",
      "metadata": {
        "colab": {
          "base_uri": "https://localhost:8080/",
          "height": 35
        },
        "id": "Ekh80wnykEar",
        "outputId": "6c2a95ab-30bc-4711-e171-b097bd450397"
      },
      "source": [
        "A = np.array([[1, 2, 5], [3, 1, -8]])\n",
        "b = np.array([4, -2]).reshape(-1, 1)\n",
        "sovmestimosti (A, b, 3)"
      ],
      "execution_count": null,
      "outputs": [
        {
          "output_type": "execute_result",
          "data": {
            "application/vnd.google.colaboratory.intrinsic+json": {
              "type": "string"
            },
            "text/plain": [
              "'Cистема имеет бесконечное количество решений'"
            ]
          },
          "metadata": {},
          "execution_count": 10
        }
      ]
    },
    {
      "cell_type": "markdown",
      "metadata": {
        "id": "2LqR_bCfNOeg"
      },
      "source": [
        "\n",
        "__3.__ Проверить на совместность и выяснить, сколько решений будет иметь система линейных уравнений, заданная расширенной матрицей\n",
        "\n",
        "$$\\tilde{A}=\\begin{pmatrix}\n",
        "\\left.\\begin{matrix}\n",
        "1 & 3 & -2 & 4\\\\ \n",
        "0 & 5 & 0 & 1\\\\ \n",
        "0 & 0 & 3 & 0\\\\ \n",
        "0 & 0 & 0 & 2\n",
        "\\end{matrix}\\right|\n",
        "\\begin{matrix}\n",
        "3\\\\ \n",
        "2\\\\\n",
        "4\\\\\n",
        "1\n",
        "\\end{matrix}\n",
        "\\end{pmatrix}.$$\n"
      ]
    },
    {
      "cell_type": "code",
      "metadata": {
        "colab": {
          "base_uri": "https://localhost:8080/",
          "height": 35
        },
        "id": "ibgfrNuNlJ0_",
        "outputId": "68932c92-e6bd-426e-fe66-b9799c5423b8"
      },
      "source": [
        "A = np.array([[1, 3, -2, 4], [0, 5, 0, 1], [0, 0, 3, 0], [0, 0, 0, 2]])\n",
        "b = np.array([3, 2, 4, 1]).reshape(-1, 1)\n",
        "sovmestimosti (A, b, 4)"
      ],
      "execution_count": null,
      "outputs": [
        {
          "output_type": "execute_result",
          "data": {
            "application/vnd.google.colaboratory.intrinsic+json": {
              "type": "string"
            },
            "text/plain": [
              "'Cистема имеет единственное решение'"
            ]
          },
          "metadata": {},
          "execution_count": 11
        }
      ]
    },
    {
      "cell_type": "markdown",
      "metadata": {
        "id": "FNyh1ID1NRvl"
      },
      "source": [
        "\n",
        "__4.__ Дана система линейных уравнений, заданная расширенной матрицей\n",
        "\n",
        "$$\\tilde{A}=\\begin{pmatrix}\n",
        "\\left.\\begin{matrix}\n",
        "1 & 2 & 3\\\\ \n",
        "4 & 5 & 6\\\\ \n",
        "7 & 8 & 9\n",
        "\\end{matrix}\\right|\n",
        "\\begin{matrix}\n",
        "a\\\\ \n",
        "b\\\\\n",
        "c\n",
        "\\end{matrix}\n",
        "\\end{pmatrix}.$$\n",
        "\n",
        "Найти соотношение между параметрами $a$, $b$ и $c$, при которых система является несовместной."
      ]
    },
    {
      "cell_type": "code",
      "metadata": {
        "colab": {
          "base_uri": "https://localhost:8080/"
        },
        "id": "tH0V_ZQ-q3nw",
        "outputId": "737e561c-e48d-4b91-eb5b-0a25f90b7941"
      },
      "source": [
        "A = np.matrix('1, 2, 3; 4, 5, 6; 7, 8, 9')\n",
        "r = np.linalg.matrix_rank(A)\n",
        "print(f'Ранг матрицы: {r}')"
      ],
      "execution_count": null,
      "outputs": [
        {
          "output_type": "stream",
          "name": "stdout",
          "text": [
            "Ранг матрицы: 2\n"
          ]
        }
      ]
    },
    {
      "cell_type": "markdown",
      "metadata": {
        "id": "dY63JVnOr0IF"
      },
      "source": [
        "Ответ:\n",
        "$$\\tilde{A}=\\begin{pmatrix}\n",
        "\\left.\\begin{matrix}\n",
        "1 & 2 & 3\\\\ \n",
        "4 & 5 & 6\\\\ \n",
        "7 & 8 & 9\n",
        "\\end{matrix}\\right|\n",
        "\\begin{matrix}\n",
        "a\\\\ \n",
        "3b\\\\\n",
        "c\n",
        "\\end{matrix}\n",
        "\\end{pmatrix}.$$"
      ]
    }
  ]
}