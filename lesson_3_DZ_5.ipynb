{
  "nbformat": 4,
  "nbformat_minor": 0,
  "metadata": {
    "colab": {
      "name": "lesson_3_DZ_5.ipynb",
      "provenance": [],
      "collapsed_sections": [],
      "authorship_tag": "ABX9TyO/BujPAahTEMB4zYstAGUX",
      "include_colab_link": true
    },
    "kernelspec": {
      "name": "python3",
      "display_name": "Python 3"
    },
    "language_info": {
      "name": "python"
    }
  },
  "cells": [
    {
      "cell_type": "markdown",
      "metadata": {
        "id": "view-in-github",
        "colab_type": "text"
      },
      "source": [
        "<a href=\"https://colab.research.google.com/github/Ksenia-90/linear_algebra/blob/lesson_3/lesson_3_DZ_5.ipynb\" target=\"_parent\"><img src=\"https://colab.research.google.com/assets/colab-badge.svg\" alt=\"Open In Colab\"/></a>"
      ]
    },
    {
      "cell_type": "code",
      "metadata": {
        "id": "MFKB4aRff7lB"
      },
      "source": [
        "import numpy as np\n",
        "np.set_printoptions(precision=2, suppress=True)"
      ],
      "execution_count": 1,
      "outputs": []
    },
    {
      "cell_type": "markdown",
      "metadata": {
        "id": "sNOgFRFrCG2S"
      },
      "source": [
        "\n",
        "__1.__ Найти собственные векторы \n",
        "\n",
        "и собственные значения для линейного оператора, заданного матрицей\n",
        "\n",
        "$$A=\\begin{pmatrix}\n",
        "-1 & -6\\\\ \n",
        "2 & 6\n",
        "\\end{pmatrix}.$$\n"
      ]
    },
    {
      "cell_type": "code",
      "metadata": {
        "id": "r3SmrHop1CiX"
      },
      "source": [
        "def is_eig(A):\n",
        "    w, v = np.linalg.eig(A)\n",
        "    print(f'Матрица A:\\n{A}')\n",
        "    print(f'Собственные значения:\\n{w}')\n",
        "    print(f'Собственные векторы:\\n{v}')"
      ],
      "execution_count": 2,
      "outputs": []
    },
    {
      "cell_type": "code",
      "metadata": {
        "colab": {
          "base_uri": "https://localhost:8080/"
        },
        "id": "xucjteah1PDm",
        "outputId": "87bc373d-2c7e-46a5-83b6-afc7585f5592"
      },
      "source": [
        "A = np.array([[-1, -6], [2, 6]])\n",
        "is_eig(A)"
      ],
      "execution_count": 3,
      "outputs": [
        {
          "output_type": "stream",
          "name": "stdout",
          "text": [
            "Матрица A:\n",
            "[[-1 -6]\n",
            " [ 2  6]]\n",
            "Собственные значения:\n",
            "[2. 3.]\n",
            "Собственные векторы:\n",
            "[[-0.89  0.83]\n",
            " [ 0.45 -0.55]]\n"
          ]
        }
      ]
    },
    {
      "cell_type": "markdown",
      "metadata": {
        "id": "uPdqhBEDgI85"
      },
      "source": [
        "__2.__ Дан оператор поворота на 180 градусов, задаваемый матрицей \n",
        "\n",
        "$$A=\\begin{pmatrix}\n",
        "-1 & 0\\\\ \n",
        "0 & -1\n",
        "\\end{pmatrix}.$$\n",
        "\n",
        "Показать, что __любой__ вектор является для него собственным.\n"
      ]
    },
    {
      "cell_type": "markdown",
      "metadata": {
        "id": "F0x5gRur1Zei"
      },
      "source": [
        "λ = -1\n",
        "* Верно для любого вектора"
      ]
    },
    {
      "cell_type": "markdown",
      "metadata": {
        "id": "h-t-oz5zgPlw"
      },
      "source": [
        "__3.__ Пусть линейный оператор задан матрицей\n",
        "\n",
        "$$A=\\begin{pmatrix}\n",
        "1 & 1\\\\ \n",
        "-1 & 3\n",
        "\\end{pmatrix}.$$\n",
        "\n",
        "Установить, является ли вектор $x=(1,1)$ собственным вектором этого линейного оператора.\n",
        "\n"
      ]
    },
    {
      "cell_type": "markdown",
      "metadata": {
        "id": "GaoCSPBi14FA"
      },
      "source": [
        "$$\n",
        "$$$$\\begin{cases}\n",
        "1+1=1\\cdot\\lambda \\\\ \n",
        "-1+3 = 1\\cdot \\lambda\n",
        "\\end{cases}\n",
        "\\Rightarrow\n",
        "\\begin{cases}\n",
        "\\lambda=2\\\\ \n",
        "\\lambda=2\n",
        "\\end{cases}.$$"
      ]
    },
    {
      "cell_type": "code",
      "metadata": {
        "colab": {
          "base_uri": "https://localhost:8080/"
        },
        "id": "HSKV9yEA2NZB",
        "outputId": "f0544f9d-19d2-48ae-e0b4-5039d6fdbd0d"
      },
      "source": [
        "A = np.array([[1, 1], [-1, 3]])\n",
        "is_eig(A)"
      ],
      "execution_count": 4,
      "outputs": [
        {
          "output_type": "stream",
          "name": "stdout",
          "text": [
            "Матрица A:\n",
            "[[ 1  1]\n",
            " [-1  3]]\n",
            "Собственные значения:\n",
            "[2. 2.]\n",
            "Собственные векторы:\n",
            "[[ 0.71 -0.71]\n",
            " [ 0.71 -0.71]]\n"
          ]
        }
      ]
    },
    {
      "cell_type": "markdown",
      "metadata": {
        "id": "hS9BqUMf1-uO"
      },
      "source": [
        "Вектор $x$ является собственным вектором линейного оператора, заданного матрицей $A$."
      ]
    },
    {
      "cell_type": "markdown",
      "metadata": {
        "id": "fZvLaIPW0JY1"
      },
      "source": [
        "**4.** Пусть линейный оператор задан матрицей\n",
        "\n",
        "$$A=\\begin{pmatrix} 0 & 3 & 0\\\\ 3 & 0 & 0\\\\ 0 & 0 & 3 \\end{pmatrix}.$$\n",
        "\n",
        "Установить, является ли вектор $x=(3, -3, -4)$ собственным вектором этого линейного оператора."
      ]
    },
    {
      "cell_type": "code",
      "metadata": {
        "colab": {
          "base_uri": "https://localhost:8080/"
        },
        "id": "JIQZNbME2QbN",
        "outputId": "d9b73cd6-ebb8-4b52-f8c5-d6136e093163"
      },
      "source": [
        "A = np.array([[0, 3, 0], [3, 0, 0], [0, 0, 3]])\n",
        "is_eig(A)"
      ],
      "execution_count": 5,
      "outputs": [
        {
          "output_type": "stream",
          "name": "stdout",
          "text": [
            "Матрица A:\n",
            "[[0 3 0]\n",
            " [3 0 0]\n",
            " [0 0 3]]\n",
            "Собственные значения:\n",
            "[ 3. -3.  3.]\n",
            "Собственные векторы:\n",
            "[[ 0.71 -0.71  0.  ]\n",
            " [ 0.71  0.71  0.  ]\n",
            " [ 0.    0.    1.  ]]\n"
          ]
        }
      ]
    },
    {
      "cell_type": "markdown",
      "metadata": {
        "id": "NnX_mEBV2e7J"
      },
      "source": [
        "\n",
        "$$$$\\begin{cases}\n",
        "-9=3\\cdot\\lambda \\\\ \n",
        "9=-3\\cdot\\lambda \\\\ \n",
        "-12=-4\\cdot \\lambda\n",
        "\\end{cases}\n",
        "\n",
        "\\begin{cases}\n",
        "\\lambda=-3\\\\ \n",
        "\\lambda=-3\\\\ \n",
        "\\lambda=3\n",
        "\\end{cases}."
      ]
    }
  ]
}