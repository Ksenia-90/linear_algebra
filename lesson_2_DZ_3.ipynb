{
  "nbformat": 4,
  "nbformat_minor": 0,
  "metadata": {
    "colab": {
      "name": "lesson_2_DZ_3.ipynb",
      "provenance": [],
      "collapsed_sections": [],
      "authorship_tag": "ABX9TyOtL2lN8e1qmRcMvzkdVy5Y",
      "include_colab_link": true
    },
    "kernelspec": {
      "name": "python3",
      "display_name": "Python 3"
    },
    "language_info": {
      "name": "python"
    }
  },
  "cells": [
    {
      "cell_type": "markdown",
      "metadata": {
        "id": "view-in-github",
        "colab_type": "text"
      },
      "source": [
        "<a href=\"https://colab.research.google.com/github/Ksenia-90/linear_algebra/blob/lesson_2/lesson_2_DZ_3.ipynb\" target=\"_parent\"><img src=\"https://colab.research.google.com/assets/colab-badge.svg\" alt=\"Open In Colab\"/></a>"
      ]
    },
    {
      "cell_type": "code",
      "metadata": {
        "id": "EhzAVApO6fmn"
      },
      "source": [
        "import numpy as np"
      ],
      "execution_count": 3,
      "outputs": []
    },
    {
      "cell_type": "markdown",
      "metadata": {
        "id": "qym6UvME42L5"
      },
      "source": [
        "Все задания рекомендуется делать вручную, затем проверяя полученные результаты с использованием numpy.\n",
        "\n",
        "1. Установить, какие произведения матриц  AB  и  BA  определены, и найти размерности полученных матриц:\n",
        "\n",
        "а)  A  — матрица  4×2 ,  B  — матрица  4×2 ;\n",
        "\n",
        "б)  A  — матрица  2×5 ,  B  — матрица  5×3 ;\n",
        "\n",
        "в)  A  — матрица  8×3 ,  B  — матрица  3×8 ;\n",
        "\n",
        "г)  A  — квадратная матрица  4×4 ,  B  — квадратная матрица  4×4 ."
      ]
    },
    {
      "cell_type": "markdown",
      "metadata": {
        "id": "z3CmA0iPBIvZ"
      },
      "source": [
        "* а. Произведение не определено \n",
        "* б. Произведение определено, размерность 2х3 \n",
        "* в. Произведение определено, размерность 8х8 \n",
        "* г. Произведение определено, размерность 4х4 "
      ]
    },
    {
      "cell_type": "markdown",
      "metadata": {
        "id": "APeDlmh8IIL1"
      },
      "source": [
        "    \n",
        "__2.__ Найти сумму и произведение матриц $A=\\begin{pmatrix}\n",
        "1 & -2\\\\ \n",
        "3 & 0\n",
        "\\end{pmatrix}$ и $B=\\begin{pmatrix}\n",
        "4 & -1\\\\ \n",
        "0 & 5\n",
        "\\end{pmatrix}.$\n"
      ]
    },
    {
      "cell_type": "code",
      "metadata": {
        "colab": {
          "base_uri": "https://localhost:8080/"
        },
        "id": "4Wk9AuTf5nbQ",
        "outputId": "b1a25147-afbb-4d6d-9be2-51d424647079"
      },
      "source": [
        "A = np.array([[1, -2], [3, 0]])\n",
        "B = np.array([[4, -1], [0, 5]])\n",
        "print(f'Сумма матриц А и В: \\n {A + B} ')\n",
        "print(f'Произведение матриц А и В: \\n {np.dot(A, B)}')\n",
        "print(f'Произведение матриц B и A: \\n {np.dot(B, A)}')"
      ],
      "execution_count": 4,
      "outputs": [
        {
          "output_type": "stream",
          "name": "stdout",
          "text": [
            "Сумма матриц А и В: \n",
            " [[ 5 -3]\n",
            " [ 3  5]] \n",
            "Произведение матриц А и В: \n",
            " [[  4 -11]\n",
            " [ 12  -3]]\n",
            "Произведение матриц B и A: \n",
            " [[ 1 -8]\n",
            " [15  0]]\n"
          ]
        }
      ]
    },
    {
      "cell_type": "markdown",
      "metadata": {
        "id": "R88mk6Z05Qwl"
      },
      "source": [
        "\n",
        "__3.__ Из закономерностей сложения и умножения матриц на число можно сделать вывод, что матрицы одного размера образуют линейное пространство. Вычислить линейную комбинацию $3A-2B+4C$ для матриц $A=\\begin{pmatrix}\n",
        "1 & 7\\\\ \n",
        "3 & -6\n",
        "\\end{pmatrix}$, $B=\\begin{pmatrix}\n",
        "0 & 5\\\\ \n",
        "2 & -1\n",
        "\\end{pmatrix}$, $C=\\begin{pmatrix}\n",
        "2 & -4\\\\ \n",
        "1 & 1\n",
        "\\end{pmatrix}.$\n",
        "    "
      ]
    },
    {
      "cell_type": "code",
      "metadata": {
        "colab": {
          "base_uri": "https://localhost:8080/"
        },
        "id": "uFUH7h8N-Uj9",
        "outputId": "69ea4b59-fe98-4e4d-d961-24b789f943b1"
      },
      "source": [
        "A = np.array([[1, 7], [3, -6]])\n",
        "B = np.array([[0, 5], [2, -1]])\n",
        "C = np.array([[2, -4], [1, 1]])\n",
        "a = 3\n",
        "b = 2\n",
        "c = 4\n",
        "A_1 = a*A\n",
        "B_1 = b*B\n",
        "C_1 = c*C\n",
        "print(f'Матрица 3*А\\n {A_1}')\n",
        "print(f'Матрица 2*B\\n {B_1}')\n",
        "print(f'Матрица 4*c\\n {C_1}')\n",
        "print(f'Линейная комбинация\\n {A_1 - B_1 + C_1}')"
      ],
      "execution_count": 5,
      "outputs": [
        {
          "output_type": "stream",
          "name": "stdout",
          "text": [
            "Матрица 3*А\n",
            " [[  3  21]\n",
            " [  9 -18]]\n",
            "Матрица 2*B\n",
            " [[ 0 10]\n",
            " [ 4 -2]]\n",
            "Матрица 4*c\n",
            " [[  8 -16]\n",
            " [  4   4]]\n",
            "Линейная комбинация\n",
            " [[ 11  -5]\n",
            " [  9 -12]]\n"
          ]
        }
      ]
    },
    {
      "cell_type": "markdown",
      "metadata": {
        "id": "HoIuRl7F5aYB"
      },
      "source": [
        "    \n",
        "__4.__ Дана матрица $A=\\begin{pmatrix}\n",
        "4 & 1\\\\ \n",
        "5 & -2\\\\ \n",
        "2 & 3\n",
        "\\end{pmatrix}$.\n",
        "Вычислить $AA^{T}$ и $A^{T}A$."
      ]
    },
    {
      "cell_type": "code",
      "metadata": {
        "colab": {
          "base_uri": "https://localhost:8080/"
        },
        "id": "l6zQ8DiaEmN9",
        "outputId": "32b1a592-6c4b-42b1-8a80-dbeec3fbb051"
      },
      "source": [
        "A = np.array([[4, 1], [5, -2], [2, 3]])\n",
        "A_T = A.T\n",
        "print (A_T)"
      ],
      "execution_count": 6,
      "outputs": [
        {
          "output_type": "stream",
          "name": "stdout",
          "text": [
            "[[ 4  5  2]\n",
            " [ 1 -2  3]]\n"
          ]
        }
      ]
    },
    {
      "cell_type": "code",
      "metadata": {
        "colab": {
          "base_uri": "https://localhost:8080/"
        },
        "id": "qswm_WodFcm4",
        "outputId": "4a3f91c6-7eb0-4f92-dbb5-f07b712b1b48"
      },
      "source": [
        "A.dot(A_T)"
      ],
      "execution_count": 7,
      "outputs": [
        {
          "output_type": "execute_result",
          "data": {
            "text/plain": [
              "array([[17, 18, 11],\n",
              "       [18, 29,  4],\n",
              "       [11,  4, 13]])"
            ]
          },
          "metadata": {},
          "execution_count": 7
        }
      ]
    },
    {
      "cell_type": "code",
      "metadata": {
        "colab": {
          "base_uri": "https://localhost:8080/"
        },
        "id": "EUOV62ZqFVq-",
        "outputId": "7433f947-dcc2-4c4a-a7b0-a2b214552cb9"
      },
      "source": [
        "A_T.dot(A)"
      ],
      "execution_count": 8,
      "outputs": [
        {
          "output_type": "execute_result",
          "data": {
            "text/plain": [
              "array([[45,  0],\n",
              "       [ 0, 14]])"
            ]
          },
          "metadata": {},
          "execution_count": 8
        }
      ]
    },
    {
      "cell_type": "markdown",
      "metadata": {
        "id": "VZA7eNIL5i-4"
      },
      "source": [
        "5*. Написать на Python функцию для перемножения двух произвольных матриц, не используя NumPy."
      ]
    },
    {
      "cell_type": "code",
      "metadata": {
        "colab": {
          "base_uri": "https://localhost:8080/"
        },
        "id": "04C1gjkF3xUu",
        "outputId": "8b23fb37-4ba2-4b14-eb18-111eae313604"
      },
      "source": [
        "from itertools import starmap\n",
        "from operator import mul\n",
        "\n",
        "A = [[1, -2], [3, 0]]\n",
        "B = [[4, -1], [0, 5]]\n",
        "\n",
        "def matrixmul(A, B):\n",
        "    matrix = tuple(zip(*B))\n",
        "    for row in A:\n",
        "        yield [sum(starmap(mul, zip(row, column))) for column in matrix]\n",
        "\n",
        "\n",
        "if \"__main__\" == __name__:\n",
        "    print(list(matrixmul(A, B)))"
      ],
      "execution_count": 10,
      "outputs": [
        {
          "output_type": "stream",
          "name": "stdout",
          "text": [
            "[[4, -11], [12, -3]]\n"
          ]
        }
      ]
    }
  ]
}