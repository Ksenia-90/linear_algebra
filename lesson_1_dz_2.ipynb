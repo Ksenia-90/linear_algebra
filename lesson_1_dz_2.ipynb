{
  "nbformat": 4,
  "nbformat_minor": 0,
  "metadata": {
    "colab": {
      "name": "lesson_1_dz_2.ipynb",
      "provenance": [],
      "collapsed_sections": [],
      "authorship_tag": "ABX9TyNmhHJHVSAEoQb0nd+kYi9a",
      "include_colab_link": true
    },
    "kernelspec": {
      "name": "python3",
      "display_name": "Python 3"
    },
    "language_info": {
      "name": "python"
    }
  },
  "cells": [
    {
      "cell_type": "markdown",
      "metadata": {
        "id": "view-in-github",
        "colab_type": "text"
      },
      "source": [
        "<a href=\"https://colab.research.google.com/github/Ksenia-90/linear_algebra/blob/lesson_1/lesson_1_dz_2.ipynb\" target=\"_parent\"><img src=\"https://colab.research.google.com/assets/colab-badge.svg\" alt=\"Open In Colab\"/></a>"
      ]
    },
    {
      "cell_type": "code",
      "metadata": {
        "id": "qT5Dfv-k_krg"
      },
      "source": [
        "import numpy as np\n",
        "from numpy.linalg import norm"
      ],
      "execution_count": 1,
      "outputs": []
    },
    {
      "cell_type": "markdown",
      "metadata": {
        "id": "yIjhMgj4nW2k"
      },
      "source": [
        "**1. Найти скалярное произведение векторов  x,y∈R :**\n",
        "* а)  x=(0,−3,6), y=(−4,7,9); \n",
        "* б)  x=(7,−4,0,1), y=(−3,1,11,2)."
      ]
    },
    {
      "cell_type": "code",
      "metadata": {
        "colab": {
          "base_uri": "https://localhost:8080/"
        },
        "id": "_rE4IE-i--_R",
        "outputId": "45bca941-9e20-49dd-a80e-df1a770403a1"
      },
      "source": [
        "x = np.array([0,-3,6])\n",
        "y = np.array([-4,7,9])\n",
        "print(f'Скалярное произведение x и y:\\n{np.dot(x, y)}')"
      ],
      "execution_count": 10,
      "outputs": [
        {
          "output_type": "stream",
          "name": "stdout",
          "text": [
            "Скалярное произведение x и y:\n",
            "33\n"
          ]
        }
      ]
    },
    {
      "cell_type": "code",
      "metadata": {
        "colab": {
          "base_uri": "https://localhost:8080/"
        },
        "id": "bAUtKC2t_3me",
        "outputId": "76be9a5d-81e7-4d74-f95c-04fd78a561cd"
      },
      "source": [
        "x = np.array([7,-4,0,1])\n",
        "y = np.array([-3,1,11,2])\n",
        "print(f'Скалярное произведение x и y:\\n{x @ y}')"
      ],
      "execution_count": 2,
      "outputs": [
        {
          "output_type": "stream",
          "name": "stdout",
          "text": [
            "Скалярное произведение x и y:\n",
            "-23\n"
          ]
        }
      ]
    },
    {
      "cell_type": "markdown",
      "metadata": {
        "id": "mlMhuo6EoBLT"
      },
      "source": [
        "**2. Найти нормы векторов  (4,2,4)  и  (12,3,4)  и угол между ними.**"
      ]
    },
    {
      "cell_type": "code",
      "metadata": {
        "colab": {
          "base_uri": "https://localhost:8080/"
        },
        "id": "7q20n_sdA1Nb",
        "outputId": "43c62b2e-34c7-436a-fc70-7a30f382376f"
      },
      "source": [
        "a = np.array([4, 2, 4])\n",
        "b = np.array([12, 3, 4])\n",
        "\n",
        "print(f'Нормы вектора а:')\n",
        "print(f'манхэттенскую норма вектора a:\\n{norm(a, ord=1)}')\n",
        "print(f'евклидова норма вектора a:\\n{norm(a, ord=2)}')\n",
        "\n",
        "print(f'Нормы вектора в:')\n",
        "print(f'манхэттенскую норма вектора b:\\n{norm(b, ord=1)}')\n",
        "print(f'евклидова норма вектора b:\\n{norm(b, ord=2)}')\n",
        "\n",
        "cos_phi = np.dot(a, b) / norm(a) / norm(b)\n",
        "print(f'Косинус угла между векторами {cos_phi:.2f}')\n",
        "print(f'Угол {np.arccos(cos_phi):.2f} радиан')\n"
      ],
      "execution_count": 3,
      "outputs": [
        {
          "output_type": "stream",
          "name": "stdout",
          "text": [
            "Нормы вектора а:\n",
            "манхэттенскую норма вектора a:\n",
            "10.0\n",
            "евклидова норма вектора a:\n",
            "6.0\n",
            "Нормы вектора в:\n",
            "манхэттенскую норма вектора b:\n",
            "19.0\n",
            "евклидова норма вектора b:\n",
            "13.0\n",
            "Косинус угла между векторами 0.90\n",
            "Угол 0.46 радиан\n"
          ]
        }
      ]
    },
    {
      "cell_type": "markdown",
      "metadata": {
        "id": "vgvglTMpoOMV"
      },
      "source": [
        "**3. Будет ли линейное пространство евклидовым, если за скалярное произведение** принять:\n",
        "* а) произведение длин векторов;\n",
        "* б) утроенное обычное скалярное произведение векторов?"
      ]
    },
    {
      "cell_type": "markdown",
      "metadata": {
        "id": "kpz65uU8D_mU"
      },
      "source": [
        "* Ответ:\n",
        "* а) да\n",
        "* б) да"
      ]
    },
    {
      "cell_type": "markdown",
      "metadata": {
        "id": "fX5Azm2BoQY2"
      },
      "source": [
        "**4. Какие из нижеперечисленных векторов образуют ортонормированный базис в линейном пространстве R3:**\n",
        "* а) (1,0,0),(0,0,1);\n",
        "* б)  $(1/\\sqrt{2},-1/\\sqrt{2},0),(1/\\sqrt{2},1/\\sqrt{2},0), (0,0,1);$<br>\n",
        "* в) (1/2,−1/2,0),(0,1/2,1/2),(0,0,1);\n",
        "* г)  (1,0,0),(0,1,0),(0,0,1)"
      ]
    },
    {
      "cell_type": "code",
      "metadata": {
        "colab": {
          "base_uri": "https://localhost:8080/"
        },
        "id": "P8yvTKdA0XWz",
        "outputId": "26700830-f74a-4d02-af72-2ab76599d7ac"
      },
      "source": [
        "a = np.array([1,0,0])\n",
        "a_1 = np.array([0,0,1])\n",
        "print(f'ортонормированный базис a и a_1:\\n{a @ a_1}')"
      ],
      "execution_count": 38,
      "outputs": [
        {
          "output_type": "stream",
          "name": "stdout",
          "text": [
            "ортонормированный базис a и a_1:\n",
            "0\n"
          ]
        }
      ]
    },
    {
      "cell_type": "code",
      "metadata": {
        "colab": {
          "base_uri": "https://localhost:8080/"
        },
        "id": "yobsDwhh1AME",
        "outputId": "29970401-ccfa-4a8d-dc5f-b028d575171d"
      },
      "source": [
        "b = np.array([(1/(2**0.5)), (-1/(2**0.5)), 0])\n",
        "b_1 = np.array([(1/(2**0.5)), (1/(2**0.5)), 0])\n",
        "b_2 = np.array([0,0,1])\n",
        "print(f'{b @ b_1}, {norm(b):.1f}')\n",
        "print(f'{b @ b_2}, {norm(b_1):.1f},')\n",
        "print(f'{b_1 @ b_2}, {norm(b_2):.1f}')\n",
        "print(f'Не ортогональный нормированный  базис')"
      ],
      "execution_count": 49,
      "outputs": [
        {
          "output_type": "stream",
          "name": "stdout",
          "text": [
            "-2.2371143170757382e-17, 1.0\n",
            "0.0, 1.0,\n",
            "0.0, 1.0\n",
            "Не ортогональный нормированный  базис\n"
          ]
        }
      ]
    },
    {
      "cell_type": "code",
      "metadata": {
        "colab": {
          "base_uri": "https://localhost:8080/"
        },
        "id": "fQcLJ_xl1r3u",
        "outputId": "c0d878c1-913c-4ad2-b071-7145950b6894"
      },
      "source": [
        "c = np.array([0.5,-0.5,0])\n",
        "c_1 = np.array([0,0.5,0.5])\n",
        "c_2 = np.array([0,0,1])\n",
        "print(f'{c @ c_1}, {norm(c):.1f}')\n",
        "print(f' {c @ c_2}, {norm(c_1):.1f}')\n",
        "print(f'{c_1 @ c_2}, {norm(c_2):.1f}')\n",
        "print(f'Не ортогональный не нормированный  базис')"
      ],
      "execution_count": 50,
      "outputs": [
        {
          "output_type": "stream",
          "name": "stdout",
          "text": [
            "-0.25, 0.7\n",
            " 0.0, 0.7\n",
            "0.5, 1.0\n",
            "Не ортогональный не нормированный  базис\n"
          ]
        }
      ]
    },
    {
      "cell_type": "markdown",
      "metadata": {
        "id": "X2EfyBWH83Jl"
      },
      "source": [
        ""
      ]
    },
    {
      "cell_type": "code",
      "metadata": {
        "colab": {
          "base_uri": "https://localhost:8080/"
        },
        "id": "bHYfhM5d4XDM",
        "outputId": "771edf1d-191a-41bf-daca-e0c0f260c656"
      },
      "source": [
        "d = np.array([1,0,0])\n",
        "d_1 = np.array([0,1,0])\n",
        "d_2 = np.array([0,0,1])\n",
        "print(f'ортонормированный базис d и d_1:\\n{d @ d_1}')\n",
        "print(f'ортонормированный базис d и d_2:\\n{d_1 @ d_2}')\n",
        "print(f'ортонормированный базис d_1 и d_2:\\n{d_1 @ d_2}')"
      ],
      "execution_count": 13,
      "outputs": [
        {
          "output_type": "stream",
          "name": "stdout",
          "text": [
            "ортонормированный базис d и d_1:\n",
            "0\n",
            "ортонормированный базис d и d_2:\n",
            "0\n",
            "ортонормированный базис d_1 и d_2:\n",
            "0\n"
          ]
        }
      ]
    }
  ]
}