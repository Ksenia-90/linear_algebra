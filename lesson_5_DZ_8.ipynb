{
  "nbformat": 4,
  "nbformat_minor": 0,
  "metadata": {
    "colab": {
      "name": "lesson_5_DZ_8.ipynb",
      "provenance": [],
      "collapsed_sections": [],
      "authorship_tag": "ABX9TyPeXifyJjiv0657Jpuz9AfN",
      "include_colab_link": true
    },
    "kernelspec": {
      "name": "python3",
      "display_name": "Python 3"
    },
    "language_info": {
      "name": "python"
    }
  },
  "cells": [
    {
      "cell_type": "markdown",
      "metadata": {
        "id": "view-in-github",
        "colab_type": "text"
      },
      "source": [
        "<a href=\"https://colab.research.google.com/github/Ksenia-90/linear_algebra/blob/lesson_5/lesson_5_DZ_8.ipynb\" target=\"_parent\"><img src=\"https://colab.research.google.com/assets/colab-badge.svg\" alt=\"Open In Colab\"/></a>"
      ]
    },
    {
      "cell_type": "code",
      "metadata": {
        "id": "xbHj7XVeGitB"
      },
      "source": [
        "import pprint\n",
        "import numpy as np\n",
        "import scipy.linalg\n",
        "np.set_printoptions(precision=2, suppress=True)"
      ],
      "execution_count": 23,
      "outputs": []
    },
    {
      "cell_type": "markdown",
      "metadata": {
        "id": "aoo5c_Q0Czsp"
      },
      "source": [
        "1. Найти с помощью NumPy SVD для матрицы\n",
        "\n",
        "$$\\begin{pmatrix}\n",
        "1 & 2 & 0\\\\ \n",
        "0 & 0 & 5\\\\ \n",
        "3 & -4 & 2\\\\ \n",
        "1 & 6 & 5\\\\ \n",
        "0 & 1 & 0\n",
        "\\end{pmatrix}.$$"
      ]
    },
    {
      "cell_type": "code",
      "metadata": {
        "colab": {
          "base_uri": "https://localhost:8080/"
        },
        "id": "jE9KpoXdGjoj",
        "outputId": "36e0663b-0835-466b-8131-c553c8d6e5a7"
      },
      "source": [
        "A=np.array([[1,2,0],[0,0,5],[3,-4,2],[1,6,5], [0,1,0]])\n",
        "U, s, W = np.linalg.svd(A)\n",
        "V = W.T\n",
        "D = np.zeros_like(A, dtype=float)\n",
        "D[np.diag_indices(min(A.shape))] = s\n",
        "print(\"U:\")\n",
        "pprint.pprint(U)\n",
        "print(\"W:\")\n",
        "pprint.pprint(W)\n",
        "print(f'Матрица D:\\n{D}')\n"
      ],
      "execution_count": 24,
      "outputs": [
        {
          "output_type": "stream",
          "name": "stdout",
          "text": [
            "U:\n",
            "array([[ 0.17,  0.16, -0.53, -0.8 , -0.16],\n",
            "       [ 0.39, -0.53,  0.61, -0.43,  0.03],\n",
            "       [-0.14, -0.82, -0.52,  0.14,  0.07],\n",
            "       [ 0.89,  0.06, -0.25,  0.38, -0.06],\n",
            "       [ 0.08,  0.11, -0.08, -0.11,  0.98]])\n",
            "W:\n",
            "array([[ 0.07,  0.72,  0.69],\n",
            "       [-0.37,  0.67, -0.65],\n",
            "       [-0.93, -0.21,  0.31]])\n",
            "Матрица D:\n",
            "[[8.82 0.   0.  ]\n",
            " [0.   6.14 0.  ]\n",
            " [0.   0.   2.53]\n",
            " [0.   0.   0.  ]\n",
            " [0.   0.   0.  ]]\n"
          ]
        }
      ]
    },
    {
      "cell_type": "code",
      "metadata": {
        "colab": {
          "base_uri": "https://localhost:8080/"
        },
        "id": "_5qAaMYG8cdu",
        "outputId": "534b5ffc-c39c-46d9-d396-fc5c386b8298"
      },
      "source": [
        "print(np.dot(V.T, V))"
      ],
      "execution_count": 25,
      "outputs": [
        {
          "output_type": "stream",
          "name": "stdout",
          "text": [
            "[[ 1.  0. -0.]\n",
            " [ 0.  1. -0.]\n",
            " [-0. -0.  1.]]\n"
          ]
        }
      ]
    },
    {
      "cell_type": "code",
      "metadata": {
        "colab": {
          "base_uri": "https://localhost:8080/"
        },
        "id": "DVR1JJs68iOI",
        "outputId": "934263d5-02c1-4331-fdcd-2d24d3bdf0a2"
      },
      "source": [
        "print(np.dot(np.dot(U, D), V.T))"
      ],
      "execution_count": 26,
      "outputs": [
        {
          "output_type": "stream",
          "name": "stdout",
          "text": [
            "[[ 1.  2.  0.]\n",
            " [ 0. -0.  5.]\n",
            " [ 3. -4.  2.]\n",
            " [ 1.  6.  5.]\n",
            " [-0.  1. -0.]]\n"
          ]
        }
      ]
    },
    {
      "cell_type": "markdown",
      "metadata": {
        "id": "XbC9H8sFGs-d"
      },
      "source": [
        "\n",
        "2. Для матрицы из предыдущего задания найти:\n",
        "\n",
        "    а) евклидову норму;\n",
        "    \n",
        "    б) норму Фробениуса."
      ]
    },
    {
      "cell_type": "code",
      "metadata": {
        "id": "oJDP5mIF7PBg"
      },
      "source": [
        "A=np.array([[1,2,0],[0,0,5],[3,-4,2],[1,6,5], [0,1,0]])"
      ],
      "execution_count": 27,
      "outputs": []
    },
    {
      "cell_type": "code",
      "metadata": {
        "colab": {
          "base_uri": "https://localhost:8080/"
        },
        "id": "g5dQOQWm7KdN",
        "outputId": "6f5f0686-170a-4c8e-8dff-02e74e815f59"
      },
      "source": [
        "print(np.linalg.norm(A,ord=2))"
      ],
      "execution_count": 28,
      "outputs": [
        {
          "output_type": "stream",
          "name": "stdout",
          "text": [
            "8.824868854820444\n"
          ]
        }
      ]
    },
    {
      "cell_type": "code",
      "metadata": {
        "colab": {
          "base_uri": "https://localhost:8080/"
        },
        "id": "j5Ji8hTCKP1e",
        "outputId": "123f45e1-93fb-40f3-ec0f-e0288cf86439"
      },
      "source": [
        "#Норма Фробениуса\n",
        "frob_norm = 0\n",
        "for i in range(np.linalg.matrix_rank(A)):\n",
        "    frob_norm += S[i]**2\n",
        "frob_norm = np.sqrt(frob_norm)\n",
        "frob_norm"
      ],
      "execution_count": 29,
      "outputs": [
        {
          "output_type": "execute_result",
          "data": {
            "text/plain": [
              "11.045361017187261"
            ]
          },
          "metadata": {},
          "execution_count": 29
        }
      ]
    },
    {
      "cell_type": "code",
      "metadata": {
        "colab": {
          "base_uri": "https://localhost:8080/"
        },
        "id": "SuTDGcn8KKog",
        "outputId": "a3b10546-0e9f-44b4-ce76-4bcb06f3ae76"
      },
      "source": [
        "np.linalg.norm(A, ord='fro')"
      ],
      "execution_count": 30,
      "outputs": [
        {
          "output_type": "execute_result",
          "data": {
            "text/plain": [
              "11.045361017187261"
            ]
          },
          "metadata": {},
          "execution_count": 30
        }
      ]
    }
  ]
}