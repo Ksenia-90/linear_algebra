{
  "nbformat": 4,
  "nbformat_minor": 0,
  "metadata": {
    "colab": {
      "name": "lesson_2_DZ_4.ipynb",
      "provenance": [],
      "collapsed_sections": [],
      "authorship_tag": "ABX9TyPvwpM0Uw7jRSt1X1EErRZc",
      "include_colab_link": true
    },
    "kernelspec": {
      "name": "python3",
      "display_name": "Python 3"
    },
    "language_info": {
      "name": "python"
    }
  },
  "cells": [
    {
      "cell_type": "markdown",
      "metadata": {
        "id": "view-in-github",
        "colab_type": "text"
      },
      "source": [
        "<a href=\"https://colab.research.google.com/github/Ksenia-90/linear_algebra/blob/lesson_2/lesson_2_DZ_4.ipynb\" target=\"_parent\"><img src=\"https://colab.research.google.com/assets/colab-badge.svg\" alt=\"Open In Colab\"/></a>"
      ]
    },
    {
      "cell_type": "code",
      "metadata": {
        "id": "EhzAVApO6fmn"
      },
      "source": [
        "import numpy as np"
      ],
      "execution_count": 18,
      "outputs": []
    },
    {
      "cell_type": "code",
      "metadata": {
        "id": "emVrtZELbqTT"
      },
      "source": [
        "rank = np.linalg.matrix_rank\n",
        "inv = np.linalg.inv"
      ],
      "execution_count": 19,
      "outputs": []
    },
    {
      "cell_type": "markdown",
      "metadata": {
        "id": "H3qXQfJ-WtUp"
      },
      "source": [
        "Все задания рекомендуется выполнять вручную, затем проверяя полученные результаты с использованием Numpy.\n",
        "\n",
        "__1.__ Вычислить определитель:\n",
        "\n",
        "   a)\n",
        "\n",
        "$$\\begin{vmatrix}\n",
        "sinx & -cosx\\\\ \n",
        "cosx & sinx\n",
        "\\end{vmatrix};$$\n",
        "\n",
        "   б)\n",
        "    \n",
        "$$\\begin{vmatrix}\n",
        "4 & 2 & 3\\\\ \n",
        "0 & 5 & 1\\\\ \n",
        "0 & 0 & 9\n",
        "\\end{vmatrix};$$\n",
        "    \n",
        "   в)\n",
        "\n",
        "$$\\begin{vmatrix}\n",
        "1 & 2 & 3\\\\ \n",
        "4 & 5 & 6\\\\ \n",
        "7 & 8 & 9\n",
        "\\end{vmatrix}.$$\n",
        "\n",
        "\n"
      ]
    },
    {
      "cell_type": "markdown",
      "metadata": {
        "id": "K9JKSXU0Zn0d"
      },
      "source": [
        "a) $sin^{2}x -(-cos^{2}x)$ = 1"
      ]
    },
    {
      "cell_type": "code",
      "metadata": {
        "colab": {
          "base_uri": "https://localhost:8080/"
        },
        "id": "QQw7OMUNZwLJ",
        "outputId": "5e51cd90-5169-4e7f-d2dc-dcf256b5f211"
      },
      "source": [
        "a = np.array([[4, 2, 3], [0, 5, 1], [0, 0, 9]])\n",
        "print(f'Матрица:\\n{a}')\n",
        "print(f'Определитель:\\n{np.linalg.det(a):.0f}')"
      ],
      "execution_count": 20,
      "outputs": [
        {
          "output_type": "stream",
          "name": "stdout",
          "text": [
            "Матрица:\n",
            "[[4 2 3]\n",
            " [0 5 1]\n",
            " [0 0 9]]\n",
            "Определитель:\n",
            "180\n"
          ]
        }
      ]
    },
    {
      "cell_type": "code",
      "metadata": {
        "colab": {
          "base_uri": "https://localhost:8080/"
        },
        "id": "81TjWoJZaH4F",
        "outputId": "ead8cc55-e962-44fe-8a76-522788a11573"
      },
      "source": [
        "b = np.array([[1, 2, 3], [4, 5, 6], [7, 8, 9]])\n",
        "print(f'Матрица:\\n{b}')\n",
        "print(f'Определитель:\\n{np.linalg.det(b):.0f}')"
      ],
      "execution_count": 21,
      "outputs": [
        {
          "output_type": "stream",
          "name": "stdout",
          "text": [
            "Матрица:\n",
            "[[1 2 3]\n",
            " [4 5 6]\n",
            " [7 8 9]]\n",
            "Определитель:\n",
            "0\n"
          ]
        }
      ]
    },
    {
      "cell_type": "markdown",
      "metadata": {
        "id": "-FY8YCWfGvf5"
      },
      "source": [
        "\n",
        "__2.__ Определитель матрицы $A$ равен $4$. Найти:\n",
        "\n",
        "   а) $det(A^{2})$;\n",
        "    \n",
        "   б) $det(A^{T})$;\n",
        "    \n",
        "   в) $det(2A)$.\n",
        "   "
      ]
    },
    {
      "cell_type": "markdown",
      "metadata": {
        "id": "uh-Fhee9dT47"
      },
      "source": [
        " $det(A^{2})$ = det(A) det(A) = 16"
      ]
    },
    {
      "cell_type": "markdown",
      "metadata": {
        "id": "iSArxSEEeqlU"
      },
      "source": [
        "$det(A^{T})$= det(A) = 4"
      ]
    },
    {
      "cell_type": "markdown",
      "metadata": {
        "id": "3ZlBTM2hew5L"
      },
      "source": [
        "det(2A) = $2^{2}$ det(A) = 16"
      ]
    },
    {
      "cell_type": "markdown",
      "metadata": {
        "id": "E27mx2O0G002"
      },
      "source": [
        "\n",
        "__3.__  Доказать, что матрица\n",
        "\n",
        "$$\\begin{pmatrix}\n",
        "-2 & 7 & -3\\\\ \n",
        "4 & -14 & 6\\\\ \n",
        "-3 & 7 & 13\n",
        "\\end{pmatrix}$$\n",
        "   \n",
        "вырожденная."
      ]
    },
    {
      "cell_type": "code",
      "metadata": {
        "colab": {
          "base_uri": "https://localhost:8080/"
        },
        "id": "KijM66LIbz1B",
        "outputId": "4ec4897c-dcc8-4496-b423-dba0c7ce6726"
      },
      "source": [
        "A = np.matrix('-2, 7, -3; 4, -14, 6; -3, 7, 13')\n",
        "print(f'Ранг матрицы равен {rank(A)}')\n",
        "try:\n",
        "  print(f'Обратная матрица {inv(A)}')\n",
        "except:\n",
        "  print('Нет обратной матрицы')"
      ],
      "execution_count": 22,
      "outputs": [
        {
          "output_type": "stream",
          "name": "stdout",
          "text": [
            "Ранг матрицы равен 2\n",
            "Нет обратной матрицы\n"
          ]
        }
      ]
    },
    {
      "cell_type": "markdown",
      "metadata": {
        "id": "4BAQdqDtcPp3"
      },
      "source": [
        "Ранг матрицы меньше числа ее строк, и у нее отсутствует обратная матрица следовательно матреца вырождена"
      ]
    },
    {
      "cell_type": "markdown",
      "metadata": {
        "id": "6fu5yyRbG98Q"
      },
      "source": [
        "\n",
        "__4.__ Найти ранг матрицы:\n",
        "\n",
        "   а) $\\begin{pmatrix}\n",
        "1 & 2 & 3\\\\ \n",
        "1 & 1 & 1\\\\ \n",
        "2 & 3 & 4\n",
        "\\end{pmatrix};$\n",
        "\n",
        "   б) $\\begin{pmatrix}\n",
        "0 & 0 & 2 & 1\\\\ \n",
        "0 & 0 & 2 & 2\\\\ \n",
        "0 & 0 & 4 & 3\\\\ \n",
        "2 & 3 & 5 & 6\n",
        "\\end{pmatrix}.$"
      ]
    },
    {
      "cell_type": "code",
      "metadata": {
        "colab": {
          "base_uri": "https://localhost:8080/"
        },
        "id": "InttbVB5TyI0",
        "outputId": "60a88d88-afdf-466d-ccbc-4f97b87c0b2a"
      },
      "source": [
        "A = np.matrix('1, 2, 3; 1, 1, 1; 2, 3, 4')\n",
        "r = np.linalg.matrix_rank(A)\n",
        "print(f'Ранг матрицы: {r}')"
      ],
      "execution_count": 23,
      "outputs": [
        {
          "output_type": "stream",
          "name": "stdout",
          "text": [
            "Ранг матрицы: 2\n"
          ]
        }
      ]
    },
    {
      "cell_type": "code",
      "metadata": {
        "colab": {
          "base_uri": "https://localhost:8080/"
        },
        "id": "bmekDHtIYhGV",
        "outputId": "3bdd1d43-37a3-497d-fbc2-643a0f9836bc"
      },
      "source": [
        "B = np.matrix('0, 0, 2, 1; 0, 0, 2, 2; 0, 0, 4, 3; 2, 3, 5, 6')\n",
        "r = np.linalg.matrix_rank(B)\n",
        "print(f'Ранг матрицы: {r}')"
      ],
      "execution_count": 24,
      "outputs": [
        {
          "output_type": "stream",
          "name": "stdout",
          "text": [
            "Ранг матрицы: 3\n"
          ]
        }
      ]
    }
  ]
}